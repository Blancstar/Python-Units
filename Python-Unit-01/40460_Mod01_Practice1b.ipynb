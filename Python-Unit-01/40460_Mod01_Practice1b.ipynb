{
  "cells": [
    {
      "metadata": {},
      "cell_type": "markdown",
      "source": [
        "# Lab 1b -- Complete\n",
        "## Strings Practice: Input, Testing, and Formatting\n",
        "\n",
        "-----\n",
        "\n",
        "### Student will be able to\n",
        "- Gather, store and use string `input()`  \n",
        "- Format `print()` output  \n",
        "- Test string characteristics  \n",
        "- Format string output  \n",
        "- Search for a string in a string  "
      ]
    },
    {
      "metadata": {},
      "cell_type": "markdown",
      "source": [
        "## input()\n",
        "Getting input from users"
      ]
    },
    {
      "metadata": {
        "scrolled": true,
        "trusted": true
      },
      "cell_type": "code",
      "source": [
        "# [ ] get user input for a variable named remind_me\n",
        "remind_me = input(\"Remind you off\")\n",
        "\n",
        "# [ ] print the value of the variable remind_me\n",
        "print(remind_me)\n"
      ],
      "execution_count": 2,
      "outputs": [
        {
          "output_type": "stream",
          "name": "stdout",
          "text": [
            "Cheese man\n"
          ]
        }
      ]
    },
    {
      "metadata": {
        "trusted": false
      },
      "cell_type": "code",
      "source": [
        "# use string addition to print \"remember: \" before the remind_me input string\n",
        "print(\"remember \" + remind_me)\n"
      ],
      "execution_count": 4,
      "outputs": [
        {
          "output_type": "stream",
          "name": "stdout",
          "text": [
            "remember Cheese man\n"
          ]
        }
      ]
    },
    {
      "metadata": {},
      "cell_type": "markdown",
      "source": [
        "### Program: Meeting Details\n",
        "#### [ ] Get user **input** for meeting subject and time\n",
        "`What is the meeting subject?: plan for graduation`  \n",
        "`What is the meeting time?: 3:00 PM on Monday`  \n",
        "\n",
        "#### [ ] Print **output** with descriptive labels  \n",
        "`Meeting Subject: plan for graduation`  \n",
        "`Meeting Time:    3:00 PM on Monday`"
      ]
    },
    {
      "metadata": {
        "trusted": false
      },
      "cell_type": "code",
      "source": [
        "# [ ] get user input for 2 variables: meeting_subject and meeting_time\n",
        "meeting_subject = input()\n",
        "meeting_time = input()\n",
        "# [ ] use string addition to print meeting subject and time with labels\n",
        "print(\"Meeting subject: \" + meeting_subject)\n",
        "print(\"Meeting Time: \" + meeting_time)\n",
        "\n",
        "\n"
      ],
      "execution_count": 9,
      "outputs": [
        {
          "output_type": "stream",
          "name": "stdout",
          "text": [
            "Meeting subject: Cheese\nMeeting Time: 3\n"
          ]
        }
      ]
    },
    {
      "metadata": {
        "collapsed": true
      },
      "cell_type": "markdown",
      "source": [
        "## print() formatting \n",
        "### Combining multiple strings separated by commas in the print() function"
      ]
    },
    {
      "metadata": {
        "trusted": false
      },
      "cell_type": "code",
      "source": [
        "# [ ] print the combined strings \"Wednesday is\" and \"in the middle of the week\" \n",
        "print(\"Wednesday is \" + \"in the middle of the week\")\n"
      ],
      "execution_count": 5,
      "outputs": [
        {
          "output_type": "stream",
          "name": "stdout",
          "text": [
            "Wednesday is in the middle of the week\n"
          ]
        }
      ]
    },
    {
      "metadata": {
        "trusted": false
      },
      "cell_type": "code",
      "source": [
        "# [ ] print combined string \"Remember to\" and the string variable remind_me from input above\n",
        "print(\"Remember to \" + remind_me)"
      ],
      "execution_count": 6,
      "outputs": [
        {
          "output_type": "stream",
          "name": "stdout",
          "text": [
            "Remember toCheese man\n"
          ]
        }
      ]
    },
    {
      "metadata": {
        "trusted": false
      },
      "cell_type": "code",
      "source": [
        "# [ ] Combine 3 variables from above with multiple strings\n",
        "print(remind_me + meeting_subject + meeting_time)\n"
      ],
      "execution_count": 10,
      "outputs": [
        {
          "output_type": "stream",
          "name": "stdout",
          "text": [
            "Cheese manCheese3\n"
          ]
        }
      ]
    },
    {
      "metadata": {
        "collapsed": true
      },
      "cell_type": "markdown",
      "source": [
        "### print() quotation marks"
      ]
    },
    {
      "metadata": {
        "trusted": false
      },
      "cell_type": "code",
      "source": [
        "# [ ] print a string sentence that will display an Apostrophe (')\n",
        "print(\"'\")\n"
      ],
      "execution_count": 11,
      "outputs": [
        {
          "output_type": "stream",
          "name": "stdout",
          "text": [
            "'\n"
          ]
        }
      ]
    },
    {
      "metadata": {
        "trusted": false
      },
      "cell_type": "code",
      "source": [
        "# [ ] print a string sentence that will display an Apostrophe (')\n",
        "print('\"')\n",
        "\n"
      ],
      "execution_count": 13,
      "outputs": [
        {
          "output_type": "stream",
          "name": "stdout",
          "text": [
            "\"\n"
          ]
        }
      ]
    },
    {
      "metadata": {
        "collapsed": true
      },
      "cell_type": "markdown",
      "source": [
        "## Boolean string tests"
      ]
    },
    {
      "metadata": {},
      "cell_type": "markdown",
      "source": [
        "### Vehicle tests  \n",
        "#### Get user input for a variable named vehicle  \n",
        "Print the following test results:\n",
        "- Check True or False if vehicle is All alphabetical characters using .isalpha()  \n",
        "- Check True or False if vehicle is only All alphabetical & numeric characters  \n",
        "- Check True or False if vehicle is Capitalized (first letter only)  \n",
        "- Check True or False if vehicle is All lowercase  \n",
        "- **Bonus:** Print description for each test (e.g.- `\"All Alpha: True\"`)"
      ]
    },
    {
      "metadata": {
        "trusted": false
      },
      "cell_type": "code",
      "source": [
        "# [ ] complete vehicle tests \n",
        "\n",
        "\n",
        "\n",
        "\n"
      ],
      "execution_count": null,
      "outputs": []
    },
    {
      "metadata": {
        "trusted": false
      },
      "cell_type": "code",
      "source": [
        "# [ ] print True or False if color starts with \"b\" \n",
        "\n"
      ],
      "execution_count": null,
      "outputs": []
    },
    {
      "metadata": {
        "collapsed": true,
        "trusted": false
      },
      "cell_type": "code",
      "source": [],
      "execution_count": null,
      "outputs": []
    },
    {
      "metadata": {},
      "cell_type": "markdown",
      "source": [
        "## String formatting"
      ]
    },
    {
      "metadata": {
        "trusted": false
      },
      "cell_type": "code",
      "source": [
        "# [ ] print the string variable capital_this Capitalizing only the first letter\n",
        "capitalize_this = \"the TIME is Noon.\"\n",
        "\n"
      ],
      "execution_count": null,
      "outputs": []
    },
    {
      "metadata": {
        "trusted": false
      },
      "cell_type": "code",
      "source": [
        "# print the string variable swap_this in swapped case\n",
        "swap_this = \"wHO writes LIKE tHIS?\"\n",
        "\n"
      ],
      "execution_count": null,
      "outputs": []
    },
    {
      "metadata": {
        "trusted": false
      },
      "cell_type": "code",
      "source": [
        "# print the string variable whisper_this in all lowercase\n",
        "whisper_this = \"Can you hear me?\"\n",
        "\n"
      ],
      "execution_count": null,
      "outputs": []
    },
    {
      "metadata": {
        "trusted": false
      },
      "cell_type": "code",
      "source": [
        "# print the string variable yell_this in all UPPERCASE\n",
        "yell_this = \"Can you hear me Now!?\"\n",
        "\n"
      ],
      "execution_count": null,
      "outputs": []
    },
    {
      "metadata": {
        "trusted": false
      },
      "cell_type": "code",
      "source": [
        "#format input using .upper(), .lower(), .swapcase, .capitalize()\n",
        "format_input = input('enter a string to reformat: ')\n",
        "\n"
      ],
      "execution_count": null,
      "outputs": []
    },
    {
      "metadata": {},
      "cell_type": "markdown",
      "source": [
        "### input() formatting"
      ]
    },
    {
      "metadata": {
        "trusted": false
      },
      "cell_type": "code",
      "source": [
        "# [ ] get user input for a variable named color\n",
        "# [ ] modify color to be all lowercase and print\n",
        "\n"
      ],
      "execution_count": null,
      "outputs": []
    },
    {
      "metadata": {
        "trusted": false
      },
      "cell_type": "code",
      "source": [
        "# [ ] get user input using variable remind_me and format to all **lowercase** and print\n",
        "# [ ] test using input with mixed upper and lower cases\n",
        "\n"
      ],
      "execution_count": null,
      "outputs": []
    },
    {
      "metadata": {
        "trusted": false
      },
      "cell_type": "code",
      "source": [
        "# [] get user input for the variable yell_this and format as a \"YELL\" to ALL CAPS\n",
        "\n"
      ],
      "execution_count": null,
      "outputs": []
    },
    {
      "metadata": {
        "collapsed": true,
        "trusted": false
      },
      "cell_type": "code",
      "source": [],
      "execution_count": null,
      "outputs": []
    },
    {
      "metadata": {},
      "cell_type": "markdown",
      "source": [
        "## \"in\" keyword\n",
        "### Boolean: short_str in long_str"
      ]
    },
    {
      "metadata": {
        "trusted": false
      },
      "cell_type": "code",
      "source": [
        "# [ ] get user input for the name of some animals in the variable animals_input\n",
        "\n",
        "\n",
        "# [ ] print true or false if 'cat' is in the string variable animals_input\n",
        "\n"
      ],
      "execution_count": null,
      "outputs": []
    },
    {
      "metadata": {
        "collapsed": true,
        "trusted": false
      },
      "cell_type": "code",
      "source": [
        "# [ ] get user input for color\n",
        "\n",
        "\n",
        "# [ ] print True or False for starts with \"b\"\n",
        "\n",
        "\n",
        "# [ ] print color variable value exactly as input \n",
        "#     test with input: \"Blue\", \"BLUE\", \"bLUE\"\n",
        "\n",
        "\n",
        "\n"
      ],
      "execution_count": null,
      "outputs": []
    },
    {
      "metadata": {},
      "cell_type": "markdown",
      "source": [
        "## Program: Guess what I'm reading\n",
        "### short_str in long_str\n",
        "\n",
        "1. **[ ]** get user **`input`** for a single word describing something that can be read \n",
        " save in a variable called **can_read**  \n",
        " e.g. - \"website\", \"newspaper\", \"blog\", \"textbook\"  \n",
        " &nbsp;  \n",
        "2. **[ ]** get user **`input`** for 3 things can be read  \n",
        " save in a variable called **can_read_things**  \n",
        "&nbsp;  \n",
        "\n",
        "3. **[ ]** print **`true`** if the **can_read** string is found  \n",
        " **in** the **can_read_things** string variable\n",
        "  \n",
        "*Example of program input and output*  \n",
        "[![01 02 practice Allergy-input](https://iajupyterprodblobs.blob.core.windows.net/imagecontainer/guess_reading.gif) ](https://1drv.ms/i/s!Am_KPRosgtaij7A_G6RtDlWZeYA3ZA)\n"
      ]
    },
    {
      "metadata": {
        "trusted": false
      },
      "cell_type": "code",
      "source": [
        "# project: \"guess what I'm reading\"\n",
        "\n",
        "# 1[ ] get 1 word input for can_read variable\n",
        "\n",
        "\n",
        "# 2[ ] get 3 things input for can_read_things variable\n",
        "\n",
        "\n",
        "# 3[ ] print True if can_read is in can_read_things\n",
        "\n",
        "\n",
        "# [] challenge: format the output to read \"item found = True\" (or false)\n",
        "# hint: look print formatting exercises\n",
        "\n"
      ],
      "execution_count": null,
      "outputs": []
    },
    {
      "metadata": {},
      "cell_type": "markdown",
      "source": [
        "## Program: Allergy Check\n",
        "\n",
        "1. **[ ]** get user **`input`** for categories of food eaten in the last 24 hours  \n",
        " save in a variable called **input_test**  \n",
        " *Example input*\n",
        " [![01 02 practice Allergy-input](https://iajupyterprodblobs.blob.core.windows.net/imagecontainer/eaten_input.gif) ](https://1drv.ms/i/s!Am_KPRosgtaij65qzFD5CGvv95-ijg)\n",
        "&nbsp;  \n",
        "2. **[ ]** Print **`True`** if \"dairy\" is in the **input_test** string.  \n",
        "**[ ]** Test the code so far.  \n",
        "&nbsp;\n",
        "3. **[ ]** Modify the print statement to output similar to below.  \n",
        "*Example output*\n",
        "[![01 02 Allergy output](https://iajupyterprodblobs.blob.core.windows.net/imagecontainer/eaten_output.gif) ](https://1drv.ms/i/s!Am_KPRosgtaij65rET-wmlpCdMX7CQ)  \n",
        "Test the code so far trying input including and without the string \"dairy\".  \n",
        "&nbsp;  \n",
        "\n",
        "4. **[ ]** Repeat the process checking the input for \"nuts\", **challenge** add \"Seafood\" and \"chocolate\".  \n",
        "**[ ]** Test your code  \n",
        "&nbsp;  \n",
        "  \n",
        "5. **[ ] Challenge:** Make your code work for input regardless of case, e.g. - print **`True`** for \"Nuts\", \"NuTs\", \"NUTS\" or \"nuts\".  \n"
      ]
    },
    {
      "metadata": {
        "trusted": false
      },
      "cell_type": "code",
      "source": [
        "# Allergy check \n",
        "\n",
        "# 1[ ] get input for test\n",
        "\n",
        "\n",
        "# 2/3[ ] print True if \"dairy\" is in the input or False if not\n",
        "\n",
        "\n",
        "# 4[ ] Check if \"nuts\" are in the input\n",
        "\n",
        "# 4+[ ] Challenge: Check if \"seafood\" is in the input\n",
        "\n",
        "# 4+[ ] Challenge: Check if \"chocolate\" is in the input\n",
        "\n"
      ],
      "execution_count": null,
      "outputs": []
    },
    {
      "metadata": {},
      "cell_type": "markdown",
      "source": [
        "[Terms of use](http://go.microsoft.com/fwlink/?LinkID=206977) &nbsp; [Privacy & cookies](https://go.microsoft.com/fwlink/?LinkId=521839) &nbsp; © 2017 Microsoft"
      ]
    }
  ],
  "metadata": {
    "anaconda-cloud": {},
    "kernelspec": {
      "name": "python3",
      "display_name": "Python 3.7.8 64-bit",
      "metadata": {
        "interpreter": {
          "hash": "57baa5815c940fdaff4d14510622de9616cae602444507ba5d0b6727c008cbd6"
        }
      }
    },
    "language_info": {
      "mimetype": "text/x-python",
      "nbconvert_exporter": "python",
      "name": "python",
      "pygments_lexer": "ipython3",
      "version": "3.7.8-final",
      "file_extension": ".py",
      "codemirror_mode": {
        "version": 3,
        "name": "ipython"
      }
    }
  },
  "nbformat": 4,
  "nbformat_minor": 1
}