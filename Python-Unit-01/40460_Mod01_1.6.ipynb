{
 "cells": [
  {
   "cell_type": "markdown",
   "metadata": {
    "collapsed": true
   },
   "source": [
    "# Section 1.6 -- Complete\n",
    "## Input\n",
    "- **input() - gathering user input**  \n",
    "- print() formatting \n",
    "- Quotes inside strings\n",
    "- Boolean string tests methods\n",
    "- String formatting methods\n",
    "- Formatting string input()\n",
    "- Boolean `in` keyword \n",
    "\n",
    "-----\n",
    "\n",
    "### Student will be able to\n",
    "- **Gather, store and use string `input()`**  \n",
    "- Format `print()` output\n",
    "- Test string characteristics\n",
    "- Format string output\n",
    "- Search for a string in a string"
   ]
  },
  {
   "cell_type": "markdown",
   "metadata": {
    "collapsed": true
   },
   "source": [
    "## Concept: Get Information from Users with `input()`  \n",
    "The **`input()`** function prompts the user to supply data returning that data as a string.\n",
    "\n",
    "[![view video](https://iajupyterprodblobs.blob.core.windows.net/imagecontainer/common/play_video.png)]( http://edxinteractivepage.blob.core.windows.net/edxpages/f7cff1a7-5601-48a1-95a6-fd1fdfabd20e.html?details=[{\"src\":\"http://jupyternootbookwams.streaming.mediaservices.windows.net/7a8881cb-0bdd-493c-b1a1-9849a95d05e6/Unit1_Section2-1-input-basic.ism/manifest\",\"type\":\"application/vnd.ms-sstr+xml\"}],[{\"src\":\"http://jupyternootbookwams.streaming.mediaservices.windows.net/7a8881cb-0bdd-493c-b1a1-9849a95d05e6/Unit1_Section2-1-input-basic.vtt\",\"srclang\":\"en\",\"kind\":\"subtitles\",\"label\":\"english\"}])\n"
   ]
  },
  {
   "cell_type": "markdown",
   "metadata": {},
   "source": [
    "### Examples"
   ]
  },
  {
   "cell_type": "code",
   "execution_count": 1,
   "metadata": {
    "collapsed": false
   },
   "outputs": [
    {
     "output_type": "stream",
     "name": "stdout",
     "text": [
      "enter a small int: \n",
      "small int: \n",
      "5\n"
     ]
    }
   ],
   "source": [
    "# review and run code - enter a small integer in the text box\n",
    "print(\"enter a small int: \")\n",
    "small_int = input()\n",
    "print(\"small int: \")\n",
    "print(small_int)"
   ]
  },
  {
   "cell_type": "markdown",
   "metadata": {},
   "source": [
    "## Task 1: Storing input in a variable\n",
    "- **[ ]** Create code to store input in student_name variable  \n",
    "An input box should when run:\n",
    "- **[ ]** type a name in the input box and press **Enter**\n",
    "- **[ ]** determine the **`type()`** of **student_name**"
   ]
  },
  {
   "cell_type": "code",
   "execution_count": 2,
   "metadata": {
    "collapsed": false
   },
   "outputs": [
    {
     "output_type": "stream",
     "name": "stdout",
     "text": [
      "<class 'str'>\n"
     ]
    }
   ],
   "source": [
    "# [ ] get input for the variable student_name\n",
    "student_name = input()\n",
    "# [ ] determine the type of student_name\n",
    "print(type(student_name))\n",
    "\n"
   ]
  },
  {
   "cell_type": "markdown",
   "metadata": {},
   "source": [
    "### Task 1 continued...\n",
    "> **Note**: **`input()`** returns a string (type = str) regardless of entry\n",
    "- If a string is entered **`input()`** returns a string\n",
    "- If a number is entered **`input()`** returns a string  \n",
    "  \n",
    "- **[ ]** Determine the **`type()`**  of input below by entering\n",
    "  - A name\n",
    "  - An integer (whole number no decimal)\n",
    "  - A float number with a decimal point"
   ]
  },
  {
   "cell_type": "code",
   "execution_count": 7,
   "metadata": {
    "collapsed": false
   },
   "outputs": [
    {
     "output_type": "stream",
     "name": "stdout",
     "text": [
      "enter a name or number\n"
     ]
    },
    {
     "output_type": "execute_result",
     "data": {
      "text/plain": [
       "str"
      ]
     },
     "metadata": {},
     "execution_count": 7
    }
   ],
   "source": [
    "# [ ] run cell several times, entering a name, an integer number, and a float number after adding code below\n",
    "print(\"enter a name or number\")\n",
    "test_input = input()\n",
    "# [ ] insert code below to check the type of test_input\n",
    "type(test_input)\n",
    "\n"
   ]
  },
  {
   "cell_type": "markdown",
   "metadata": {},
   "source": [
    "## Concept: User Prompts using `input()`\n",
    "\n",
    "The **`input()`** function has an optional string argument which displays the string intended to inform a user what to enter  \n",
    "**`input()`** works similar to **`print()`**&nbsp;in the way it displays arguments as output.\n",
    "\n",
    "[![view video](https://iajupyterprodblobs.blob.core.windows.net/imagecontainer/common/play_video.png)]( http://edxinteractivepage.blob.core.windows.net/edxpages/f7cff1a7-5601-48a1-95a6-fd1fdfabd20e.html?details=[{\"src\":\"http://jupyternootbookwams.streaming.mediaservices.windows.net/c607aa57-b18b-4f29-a317-7b13db66d8e8/Unit1_Section2-1-input-prompt.ism/manifest\",\"type\":\"application/vnd.ms-sstr+xml\"}],[{\"src\":\"http://jupyternootbookwams.streaming.mediaservices.windows.net/c607aa57-b18b-4f29-a317-7b13db66d8e8/Unit1_Section2-1-input-prompt.vtt\",\"srclang\":\"en\",\"kind\":\"subtitles\",\"label\":\"english\"}])\n"
   ]
  },
  {
   "cell_type": "markdown",
   "metadata": {},
   "source": [
    "### Examples"
   ]
  },
  {
   "cell_type": "code",
   "execution_count": 8,
   "metadata": {
    "collapsed": true
   },
   "outputs": [
    {
     "output_type": "stream",
     "name": "stdout",
     "text": [
      "Hi nathan\n"
     ]
    }
   ],
   "source": [
    "student_name = input(\"enter the student name: \")  \n",
    "print(\"Hi \" + student_name)"
   ]
  },
  {
   "cell_type": "markdown",
   "metadata": {},
   "source": [
    "## Task 2: Prompting the user for input\n",
    "- **[ ]** create a variable named **city** to store input, add a prompt for the name of a city\n",
    "- **[ ]** print \"the city name is \" followed by the value stored in **city**"
   ]
  },
  {
   "cell_type": "code",
   "execution_count": 11,
   "metadata": {
    "collapsed": false
   },
   "outputs": [
    {
     "output_type": "stream",
     "name": "stdout",
     "text": [
      "lol is the worst\n"
     ]
    }
   ],
   "source": [
    "# [ ] get user input for a city name in the variable named city\n",
    "City_name = input()\n",
    "# [ ] print the city name\n",
    "print(City_name + \" is the worst\")\n",
    "\n"
   ]
  },
  {
   "cell_type": "markdown",
   "metadata": {
    "collapsed": true
   },
   "source": [
    "### Task 2 continued \n",
    "## Multiple prompts for user input\n",
    "Often programs need information on multiple items.\n",
    "- **[ ]** create variables to store input: **name**, **age**, **get_mail**\n",
    "- **[ ]** create prompts for name, age and yes/no to being on an email list\n",
    "- **[ ]** print description + input values   \n",
    "\n",
    ">Example print output:  \n",
    "`name = Alton`  \n",
    "`age =  17`  \n",
    "`wants email = yes`  \n",
    "  \n",
    "**Tip:** With multiple input statements, after each prompt, **click 'in' the input box** to continue entering input. "
   ]
  },
  {
   "cell_type": "code",
   "execution_count": 3,
   "metadata": {
    "collapsed": false
   },
   "outputs": [
    {
     "output_type": "stream",
     "name": "stdout",
     "text": [
      "Hi nathan\nyou are 20\ndo you want an email no\n"
     ]
    }
   ],
   "source": [
    "# [ ]create variables to store input: name, age, get_mail with prompts\n",
    "# for name, age and yes/no to being on an email list\n",
    "name = input('What is your name')\n",
    "age = input('how old are you')\n",
    "wants_email = input('do you want an email')\n",
    "# [ ] print a description + variable value for each variable\n",
    "print(\"Hi \" + name)\n",
    "print(\"you are \" + age)\n",
    "print(\"do you want an email \" + wants_email)"
   ]
  },
  {
   "cell_type": "markdown",
   "metadata": {},
   "source": [
    "[Terms of use](http://go.microsoft.com/fwlink/?LinkID=206977) &nbsp; [Privacy & cookies](https://go.microsoft.com/fwlink/?LinkId=521839) &nbsp; © 2017 Microsoft"
   ]
  }
 ],
 "metadata": {
  "anaconda-cloud": {},
  "kernelspec": {
   "name": "Python 3.7.8 64-bit",
   "display_name": "Python 3.7.8 64-bit",
   "metadata": {
    "interpreter": {
     "hash": "57baa5815c940fdaff4d14510622de9616cae602444507ba5d0b6727c008cbd6"
    }
   }
  },
  "language_info": {
   "codemirror_mode": {
    "name": "ipython",
    "version": 3
   },
   "file_extension": ".py",
   "mimetype": "text/x-python",
   "name": "python",
   "nbconvert_exporter": "python",
   "pygments_lexer": "ipython3",
   "version": "3.7.8-final"
  }
 },
 "nbformat": 4,
 "nbformat_minor": 1
}