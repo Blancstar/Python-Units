{
  "cells": [
    {
      "metadata": {
        "collapsed": true
      },
      "cell_type": "markdown",
      "source": [
        "#  Module 1 Project  \n",
        "Course 40460: Introduction to Python, Unit 1\n",
        "\n",
        "The activity is based on Module 1 and is similar to the Jupyter Notebook for Module 1 practice, which you may have completed.\n",
        "\n",
        "> **NOTE:** This program requires print output and code syntax used in Module 1.\n",
        "\n",
        "| Some Assignment Requirements |  \n",
        "|:-------------------------------|  \n",
        "| **NOTE:** This program requires `print` output and using code syntax used in Module 1 such as variable assignment, `input`, `in` keyword, `.lower()` or `.upper()` method.  |  \n",
        "\n",
        "\n",
        "## Program: Allergy Check  \n",
        "\n",
        "1. **[ ]** Get user **`input`** for categories of food eaten in the last 24 hours  \n",
        " save in a variable called **input_test**.  \n",
        " *Example input*\n",
        " [![01 02 practice Allergy-input](https://iajupyterprodblobs.blob.core.windows.net/imagecontainer/eaten_input.gif) ](https://1drv.ms/i/s!Am_KPRosgtaij65qzFD5CGvv95-ijg)\n",
        "&nbsp;  \n",
        "2. **[ ]** Print **`True`** if \"dairy\" is in the **input_test** string.  \n",
        "**[ ]** Test the code so far.  \n",
        "&nbsp;\n",
        "3. **[ ]** Modify the print statement to output similar to below.  \n",
        "*Example output*\n",
        "[![01 02 Allergy output](https://iajupyterprodblobs.blob.core.windows.net/imagecontainer/eaten_output.gif) ](https://1drv.ms/i/s!Am_KPRosgtaij65rET-wmlpCdMX7CQ)  \n",
        "Test the code so far trying input including and without the string \"dairy\".  \n",
        "&nbsp;  \n",
        "\n",
        "4. **[ ]** Repeat the process checking the input for \"nuts\", **challenge** add \"Seafood\" and \"chocolate\".  \n",
        "**[ ]** Test your code.  \n",
        "&nbsp;  \n",
        "  \n",
        "5. **[ ] Challenge:** Make your code work for input regardless of case, e.g. - print **`True`** for \"Nuts\", \"NuTs\", \"NUTS\" or \"nuts\".  \n"
      ]
    },
    {
      "metadata": {
        "trusted": true
      },
      "cell_type": "code",
      "source": [
        "allery_list = (\"Dairy\", \"Nuts\", \"Seafood\", \"Chocolate\", \"Asparagus\")\n",
        "\n",
        "allergy_check = input(\"Check to see what is an allergen\")\n",
        "\n",
        "print(allergy_check in allery_list)\n",
        "\n"
      ],
      "execution_count": 13,
      "outputs": [
        {
          "output_type": "stream",
          "name": "stdout",
          "text": [
            "False\n"
          ]
        }
      ]
    },
    {
      "metadata": {},
      "cell_type": "markdown",
      "source": [
        "[Terms of use](http://go.microsoft.com/fwlink/?LinkID=206977) &nbsp; [Privacy & cookies](https://go.microsoft.com/fwlink/?LinkId=521839) &nbsp; © 2017 Microsoft"
      ]
    }
  ],
  "metadata": {
    "anaconda-cloud": {},
    "kernelspec": {
      "name": "Python 3.7.8 64-bit",
      "display_name": "Python 3.7.8 64-bit",
      "metadata": {
        "interpreter": {
          "hash": "57baa5815c940fdaff4d14510622de9616cae602444507ba5d0b6727c008cbd6"
        }
      }
    },
    "language_info": {
      "mimetype": "text/x-python",
      "nbconvert_exporter": "python",
      "name": "python",
      "file_extension": ".py",
      "version": "3.7.8-final",
      "pygments_lexer": "ipython3",
      "codemirror_mode": {
        "version": 3,
        "name": "ipython"
      }
    }
  },
  "nbformat": 4,
  "nbformat_minor": 1
}