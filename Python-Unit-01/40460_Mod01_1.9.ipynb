{
  "cells": [
    {
      "metadata": {
        "collapsed": true
      },
      "cell_type": "markdown",
      "source": [
        "# Section 1.9\n",
        "## String Formatting and the 'in' Keyword\n",
        "- input() - gathering user input  \n",
        "- print() formatting   \n",
        "- Quotes inside strings \n",
        "- Boolean string tests methods   \n",
        "- **String formatting methods**  \n",
        "- **Formatting string input()**  \n",
        "- **Boolean `in` keyword**  \n",
        "\n",
        "-----\n",
        "\n",
        "### Student will be able to\n",
        "- Gather, store and use string `input()`  \n",
        "- Format `print()` output  \n",
        "- Test string characteristics  \n",
        "- **Format string output**  \n",
        "- **Search for a string in a string**  "
      ]
    },
    {
      "metadata": {
        "collapsed": true
      },
      "cell_type": "markdown",
      "source": [
        "## Concept: String Formatting Methods\n",
        "[![view video](https://iajupyterprodblobs.blob.core.windows.net/imagecontainer/common/play_video.png)]( http://edxinteractivepage.blob.core.windows.net/edxpages/f7cff1a7-5601-48a1-95a6-fd1fdfabd20e.html?details=[{\"src\":\"http://jupyternootbookwams.streaming.mediaservices.windows.net/693e416c-ab73-4387-a0d2-5a47668ae4de/Unit1_Section2-4-String-Format_Methods.ism/manifest\",\"type\":\"application/vnd.ms-sstr+xml\"}],[{\"src\":\"http://jupyternootbookwams.streaming.mediaservices.windows.net/693e416c-ab73-4387-a0d2-5a47668ae4de/Unit1_Section2-4-String-Format_Methods.vtt\",\"srclang\":\"en\",\"kind\":\"subtitles\",\"label\":\"english\"}])\n",
        "The following methods are applied to string objects:\n",
        "- **.capitalize()** - capitalizes the first character of a string\n",
        "- **.lower()** - all characters of a string are made lowercase\n",
        "- **.upper()** - all characters of a string are made uppercase\n",
        "- **.swapcase()** - all characters of a string are made to switch case upper becomes lower and vice versa  \n",
        "- **.title()** - each 'word' separated by a space is capitalized"
      ]
    },
    {
      "metadata": {},
      "cell_type": "markdown",
      "source": [
        "### Examples"
      ]
    },
    {
      "metadata": {
        "trusted": true
      },
      "cell_type": "code",
      "source": [
        "print(\"ms. Browning is in her office.\".capitalize())"
      ],
      "execution_count": 1,
      "outputs": [
        {
          "output_type": "stream",
          "name": "stdout",
          "text": [
            "Ms. browning is in her office.\n"
          ]
        }
      ]
    },
    {
      "metadata": {
        "trusted": true
      },
      "cell_type": "code",
      "source": [
        "fav_color = \"green\"\n",
        "print(fav_color.capitalize(), fav_color, fav_color,\"and\", fav_color.upper()+\"!\")"
      ],
      "execution_count": 2,
      "outputs": [
        {
          "output_type": "stream",
          "name": "stdout",
          "text": [
            "Green green green and GREEN!\n"
          ]
        }
      ]
    },
    {
      "metadata": {},
      "cell_type": "markdown",
      "source": [
        "## Task 1 (multi-part)\n",
        "- [ ] Format with `.capitalize(), .lower(), .upper(), .swapcase()`\n",
        "> **Note:** Use **print()**"
      ]
    },
    {
      "metadata": {
        "trusted": false
      },
      "cell_type": "code",
      "source": [
        "# [ ] get input for a variable, fav_food, that describes a favorite food\n",
        "fav_food = input()\n",
        "# [ ] display fav_food as ALL CAPS, used in a sentence\n",
        "print(fav_food.upper())\n",
        "\n",
        "# [ ] dispaly fav_food as all lower case, used in a sentence\n",
        "print(fav_food.lower())\n",
        "\n",
        "# [] display fav_food with swapped case, used in a sentence\n",
        "print(fav_food.swapcase())\n",
        "\n",
        "# [] display fav_food with capitalization, used in a sentence\n",
        "print(fav_food.capitalize())\n",
        "\n",
        "\n"
      ],
      "execution_count": 9,
      "outputs": [
        {
          "output_type": "stream",
          "name": "stdout",
          "text": [
            "PIZZA\npizza\nPIZZA\nPizza\n"
          ]
        }
      ]
    },
    {
      "metadata": {
        "trusted": false
      },
      "cell_type": "code",
      "source": [
        "fav_color = \"Forest Green\"\n",
        "# [] display the fav_color variable as upper, lower, swapcase, and capitalize formatting in a single print() statement\n",
        "print(fav_color.upper())\n",
        "print(fav_color.lower())\n",
        "print(fav_color.swapcase())\n",
        "print(fav_color.capitalize())\n"
      ],
      "execution_count": 10,
      "outputs": [
        {
          "output_type": "stream",
          "name": "stdout",
          "text": [
            "FOREST GREEN\nforest green\nfOREST gREEN\nForest green\n"
          ]
        }
      ]
    },
    {
      "metadata": {
        "collapsed": true
      },
      "cell_type": "markdown",
      "source": [
        "## Concept: Formatting String Input()\n",
        "[![view video](https://iajupyterprodblobs.blob.core.windows.net/imagecontainer/common/play_video.png)]( http://edxinteractivepage.blob.core.windows.net/edxpages/f7cff1a7-5601-48a1-95a6-fd1fdfabd20e.html?details=[{\"src\":\"http://jupyternootbookwams.streaming.mediaservices.windows.net/460107d8-5d62-432e-924b-a3c779b2e5c5/Unit1_Section2-4-Input-String_Formatting.ism/manifest\",\"type\":\"application/vnd.ms-sstr+xml\"}],[{\"src\":\"http://jupyternootbookwams.streaming.mediaservices.windows.net/460107d8-5d62-432e-924b-a3c779b2e5c5/Unit1_Section2-4-Input-String_Formatting.vtt\",\"srclang\":\"en\",\"kind\":\"subtitles\",\"label\":\"english\"}])\n",
        "When storing input, sometimes a specific format is needed and formatting is applied to the **`input()`** function.\n",
        "> **Note:** this technique overwrites the original user input in the variable with the formatted value "
      ]
    },
    {
      "metadata": {
        "collapsed": true
      },
      "cell_type": "markdown",
      "source": [
        "### Example"
      ]
    },
    {
      "metadata": {
        "trusted": false
      },
      "cell_type": "code",
      "source": [
        "# review and run code - test a capitalized color input\n",
        "fav_color = input('What is your favorite color?: ').lower()\n",
        "print(fav_color)"
      ],
      "execution_count": 11,
      "outputs": [
        {
          "output_type": "stream",
          "name": "stdout",
          "text": [
            "cheese\n"
          ]
        }
      ]
    },
    {
      "metadata": {},
      "cell_type": "markdown",
      "source": [
        "## Task 2  \n",
        "### [ ] format &nbsp; ` input()` with ` .upper()`"
      ]
    },
    {
      "metadata": {
        "trusted": false
      },
      "cell_type": "code",
      "source": [
        "# [] input variable fav_color as upper\n",
        "fav_color = input().upper()\n",
        "# [] print fav_color\n",
        "print(fav_color)\n",
        "\n"
      ],
      "execution_count": 12,
      "outputs": [
        {
          "output_type": "stream",
          "name": "stdout",
          "text": [
            "GREEN\n"
          ]
        }
      ]
    },
    {
      "metadata": {
        "collapsed": true
      },
      "cell_type": "markdown",
      "source": [
        "## Concept: Boolean `in` Keyword \n",
        "[![view video](https://iajupyterprodblobs.blob.core.windows.net/imagecontainer/common/play_video.png)]( http://edxinteractivepage.blob.core.windows.net/edxpages/f7cff1a7-5601-48a1-95a6-fd1fdfabd20e.html?details=[{\"src\":\"http://jupyternootbookwams.streaming.mediaservices.windows.net/ef7e8587-8ce6-48a4-9a2f-fb0a09db287f/Unit1_Section2-4-Boolean-in.ism/manifest\",\"type\":\"application/vnd.ms-sstr+xml\"}],[{\"src\":\"http://jupyternootbookwams.streaming.mediaservices.windows.net/ef7e8587-8ce6-48a4-9a2f-fb0a09db287f/Unit1_Section2-4-Boolean-in.vtt\",\"srclang\":\"en\",\"kind\":\"subtitles\",\"label\":\"english\"}])\n",
        "The **`in`** keyword can be used as a simple search returning **`True`** or **`False`** indication if a string is included in a target sequence.  \n",
        "### Comparing strings is case sensitive\n",
        "`'Hello'` is not the same as `'hello'`  "
      ]
    },
    {
      "metadata": {},
      "cell_type": "markdown",
      "source": [
        "### Examples"
      ]
    },
    {
      "metadata": {
        "scrolled": true,
        "trusted": false
      },
      "cell_type": "code",
      "source": [
        "# review and run code to test if a string is to be found in another string\n",
        "menu = \"salad, pasta, sandwich, pizza, drinks, dessert\"\n",
        "print('pizza' in menu)"
      ],
      "execution_count": 13,
      "outputs": [
        {
          "output_type": "stream",
          "name": "stdout",
          "text": [
            "True\n"
          ]
        }
      ]
    },
    {
      "metadata": {
        "trusted": true
      },
      "cell_type": "code",
      "source": [
        "# review and run code to test case sensitive examples \n",
        "greeting = \"Hello World!\"\n",
        "print(\"'hello' in greeting = \",'hello' in greeting)\n",
        "print(\"'Hello' in greeting = \", 'Hello' in greeting)"
      ],
      "execution_count": 14,
      "outputs": [
        {
          "output_type": "stream",
          "name": "stdout",
          "text": [
            "'hello' in greeting =  False\n'Hello' in greeting =  True\n"
          ]
        }
      ]
    },
    {
      "metadata": {},
      "cell_type": "markdown",
      "source": [
        "Example below: **Remove case sensitivity from a string comparison**"
      ]
    },
    {
      "metadata": {
        "collapsed": true,
        "trusted": false
      },
      "cell_type": "code",
      "source": [
        "# review and run code to test removing case sensitivity from a string comparison\n",
        "greeting = \"Hello World!\"\n",
        "print(\"'hello' in greeting = \",'hello' in greeting)\n",
        "print(\"'Hello' in greeting = \", 'Hello' in greeting)\n",
        "print(\"'hello' in greeting if lower used = \", 'hello'.lower() in greeting.lower())"
      ],
      "execution_count": null,
      "outputs": []
    },
    {
      "metadata": {},
      "cell_type": "markdown",
      "source": [
        "## Task 3: multi-part\n",
        "**[ ] Add code below** testing the **`menu`** string variable for `'pizza'`, `'soup'`, and `'dessert'` using keyword **`in`**\n",
        "- Print each test on a separate line\n",
        "- Print a description for each test (e.g. - \"`Pizza in menu = True`\")"
      ]
    },
    {
      "metadata": {
        "trusted": false
      },
      "cell_type": "code",
      "source": [
        "# [] print 3 tests, with description text, testing the menu variable for 'pizza', 'soup' and 'dessert'\n",
        "menu = \"salad, pasta, sandwich, pizza, drinks, dessert\"\n",
        "print('pizza' in menu)\n",
        "print('soup'in menu)\n",
        "print('dessert' in menu)\n"
      ],
      "execution_count": 16,
      "outputs": [
        {
          "output_type": "stream",
          "name": "stdout",
          "text": [
            "True\nFalse\nTrue\n"
          ]
        }
      ]
    },
    {
      "metadata": {},
      "cell_type": "markdown",
      "source": [
        "## Program: What is on the menu?\n",
        "### [ ] Create a program where a user can check if an item is on the menu\n",
        "- store the user response in a variable menu_ask\n",
        "- use the menu from above and add some additional items\n",
        "- the program should be able to ignore case mismatch so that \"hello\" is found in \"Hello World!\""
      ]
    },
    {
      "metadata": {
        "trusted": false
      },
      "cell_type": "code",
      "source": [
        "# Create a program where the user supplies input to search the menu\n",
        "menu = \"salad, pasta, sandwich, pizza, drinks, dessert\"\n",
        "\n",
        "x = input()\n",
        "print(x in menu)\n",
        "\n"
      ],
      "execution_count": 29,
      "outputs": [
        {
          "output_type": "stream",
          "name": "stdout",
          "text": [
            "True\n"
          ]
        }
      ]
    },
    {
      "metadata": {},
      "cell_type": "markdown",
      "source": [
        "### [ ] Challenge: Add to the menu\n",
        "- print the current menu\n",
        "- get user input for add_item variable\n",
        "- new_menu use string addition to add add_item to menu\n",
        "- print the new_menu\n",
        "testing\n",
        "- add a cell below add menu\n",
        "- check if an item is on the menu, check for previous items and the item you added"
      ]
    },
    {
      "metadata": {
        "trusted": false
      },
      "cell_type": "code",
      "source": [
        "# add to menu\n",
        "menu = \"salad, pasta, sandwich, pizza, drinks, dessert, \" + input()\n",
        "print(menu)"
      ],
      "execution_count": 34,
      "outputs": [
        {
          "output_type": "stream",
          "name": "stdout",
          "text": [
            "salad, pasta, sandwich, pizza, drinks, dessert, cheese, eggplant\n"
          ]
        }
      ]
    },
    {
      "metadata": {
        "trusted": false
      },
      "cell_type": "code",
      "source": [
        "# Testing Add to Menu - create user input to search for an item on the new menu\n",
        "print(input() in menu)\n"
      ],
      "execution_count": 37,
      "outputs": [
        {
          "output_type": "stream",
          "name": "stdout",
          "text": [
            "True\n"
          ]
        }
      ]
    },
    {
      "metadata": {},
      "cell_type": "markdown",
      "source": [
        "## Task 4: Fix the error"
      ]
    },
    {
      "metadata": {
        "trusted": false
      },
      "cell_type": "code",
      "source": [
        "# [ ] fix the error\n",
        "paint_colors = \"red, blue, green, black, orange, pink\"\n",
        "print('Red in paint colors = ','red' in paint_colors)\n",
        "\n"
      ],
      "execution_count": 39,
      "outputs": [
        {
          "output_type": "stream",
          "name": "stdout",
          "text": [
            "Red in paint colors =  True\n"
          ]
        }
      ]
    },
    {
      "metadata": {
        "collapsed": true
      },
      "cell_type": "markdown",
      "source": [
        "[Terms of use](http://go.microsoft.com/fwlink/?LinkID=206977) &nbsp; [Privacy & cookies](https://go.microsoft.com/fwlink/?LinkId=521839) &nbsp; © 2017 Microsoft"
      ]
    }
  ],
  "metadata": {
    "anaconda-cloud": {},
    "kernelspec": {
      "name": "Python 3.7.8 64-bit",
      "display_name": "Python 3.7.8 64-bit",
      "metadata": {
        "interpreter": {
          "hash": "57baa5815c940fdaff4d14510622de9616cae602444507ba5d0b6727c008cbd6"
        }
      }
    },
    "language_info": {
      "mimetype": "text/x-python",
      "nbconvert_exporter": "python",
      "name": "python",
      "pygments_lexer": "ipython3",
      "version": "3.7.8-final",
      "file_extension": ".py",
      "codemirror_mode": {
        "version": 3,
        "name": "ipython"
      }
    }
  },
  "nbformat": 4,
  "nbformat_minor": 1
}