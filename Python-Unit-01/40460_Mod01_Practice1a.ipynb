{
  "cells": [
    {
      "metadata": {
        "collapsed": true
      },
      "cell_type": "markdown",
      "source": [
        "# Lab 1a -- complete\n",
        "## Basics Practice: Notebooks, Comments, print(), type(), Addition, Errors and Art\n",
        "\n",
        "### Student will be able to\n",
        "- Use Python 3 in Jupyter notebooks\n",
        "- Write working code using `print()` and `#` comments  \n",
        "- Write working code using `type()` and variables\n",
        "- Combine Strings using string addition (+)\n",
        "- Add numbers in code (+)\n",
        "- Troubleshoot errors\n",
        "- Create character art  \n",
        "\n",
        ">**Note:** The **[ ]** indicates student has a task to complete.\n",
        "  \n",
        ">**Reminder:** To run code and save changes: student should upload or clone a copy of notebooks. \n",
        "\n",
        "#### Notebook use\n",
        "- [ ] Insert a **code cell** below   \n",
        "- [ ] Enter the following Python code, including the comment: \n",
        "```Python \n",
        "# [ ] print 'Hello!' and remember to save notebook!\n",
        "print('Hello!')\n",
        "```\n",
        "Then run the code - the output should be:  \n",
        "`Hello!`"
      ]
    },
    {
      "metadata": {
        "trusted": false
      },
      "cell_type": "code",
      "source": [
        "print('hello')"
      ],
      "execution_count": null,
      "outputs": []
    },
    {
      "metadata": {},
      "cell_type": "markdown",
      "source": [
        "#### Run the cell below   \n",
        "- [ ] Use **Ctrl + Enter**  \n",
        "- [ ] Use **Shift + Enter**    "
      ]
    },
    {
      "metadata": {
        "trusted": false
      },
      "cell_type": "code",
      "source": [
        "print('watch for the cat')"
      ],
      "execution_count": 1,
      "outputs": [
        {
          "output_type": "stream",
          "name": "stdout",
          "text": [
            "watch for the cat\n"
          ]
        }
      ]
    },
    {
      "metadata": {},
      "cell_type": "markdown",
      "source": [
        "#### Nathan's Notebook editing\n",
        "- [ ] Edit **this** notebook Markdown cell replacing the word \"Student's\" above with your name\n",
        "- [ ] Run the cell to display the formatted text\n",
        "- [ ] Run any 'markdown' cells that are in edit mode, so they are easier to read"
      ]
    },
    {
      "source": [
        "#### [ ] Convert \\*this\\* cell from markdown to a code cell, then run it  \n",
        "print('Run as a code cell')\n"
      ],
      "cell_type": "code",
      "metadata": {},
      "execution_count": 2,
      "outputs": [
        {
          "output_type": "stream",
          "name": "stdout",
          "text": [
            "Run as a code cell\n"
          ]
        }
      ]
    },
    {
      "metadata": {},
      "cell_type": "markdown",
      "source": [
        "##  # Comments\n",
        "Create a code comment that identifies this notebook, containing your name and the date."
      ]
    },
    {
      "metadata": {
        "collapsed": true,
        "trusted": false
      },
      "cell_type": "code",
      "source": [
        "#this is a comment by nathan"
      ],
      "execution_count": null,
      "outputs": []
    },
    {
      "metadata": {},
      "cell_type": "markdown",
      "source": [
        "#### Use print() to \n",
        "- [ ] print [**your_name**]\n",
        "- [ ] print **is using Python!**"
      ]
    },
    {
      "metadata": {
        "trusted": false
      },
      "cell_type": "code",
      "source": [
        "# [ ] print your name\n",
        "print(\"Nathan\")\n",
        "# [ ] print \"is using Python\"\n",
        "print(\"is using Python\")\n"
      ],
      "execution_count": 1,
      "outputs": [
        {
          "output_type": "stream",
          "name": "stdout",
          "text": [
            "Nathan\nis using Python\n"
          ]
        }
      ]
    },
    {
      "metadata": {},
      "cell_type": "markdown",
      "source": [
        "Output above should be:  \n",
        "`Your Name  \n",
        "is using Python!`  "
      ]
    },
    {
      "metadata": {},
      "cell_type": "markdown",
      "source": [
        "#### Use variables in print()\n",
        "- [ ] Create a variable **your_name** and assign it a string containing your name\n",
        "- [ ] Print **your_name**"
      ]
    },
    {
      "metadata": {
        "collapsed": true,
        "trusted": false
      },
      "cell_type": "code",
      "source": [
        "# [ ] create a variable your_name and assign it a string containing your name\n",
        "your_name = \"Nathan\"\n",
        "#[ ] print your_name\n",
        "print(your_name)\n"
      ],
      "execution_count": 3,
      "outputs": [
        {
          "output_type": "stream",
          "name": "stdout",
          "text": [
            "Nathan\n"
          ]
        }
      ]
    },
    {
      "metadata": {},
      "cell_type": "markdown",
      "source": [
        "#### Create more string variables\n",
        "- **[ ]** Create variables as directed below\n",
        "- **[ ]** Print the variables"
      ]
    },
    {
      "metadata": {
        "trusted": false
      },
      "cell_type": "code",
      "source": [
        "# [ ] create variables and assign values for: favorite_song, shoe_size, lucky_number\n",
        "favorite_song = \"hours and hours\"\n",
        "shoe_size = \"7.5\"\n",
        "lucky_number = \"0207\"\n",
        "# [ ] print the value of each variable favorite_song, shoe_size, and lucky_number\n",
        "print(favorite_song, shoe_size, lucky_number)\n",
        "\n"
      ],
      "execution_count": 4,
      "outputs": [
        {
          "output_type": "stream",
          "name": "stdout",
          "text": [
            "hours and hours 7.5 0207\n"
          ]
        }
      ]
    },
    {
      "metadata": {},
      "cell_type": "markdown",
      "source": [
        "#### Use string addition\n",
        "- **[ ]**  Print the above string variables (favorite_song, shoe_size, lucky_number) combined with a description by using **string addition**\n",
        ">For example, favorite_song displayed as:  \n",
        "`favorite song is happy birthday`"
      ]
    },
    {
      "metadata": {
        "trusted": false
      },
      "cell_type": "code",
      "source": [
        "# [ ] print favorite_song with description\n",
        "print(\"my favorite song is \" + favorite_song)\n",
        "\n",
        "# [ ] print shoe_size with description\n",
        "print(\"my shoe size is \" + shoe_size)\n",
        "\n",
        "# [ ] print lucky_number with description\n",
        "print(\"my luck number is \" + lucky_number)\n"
      ],
      "execution_count": 8,
      "outputs": [
        {
          "output_type": "stream",
          "name": "stdout",
          "text": [
            "my favorite song is hours and hours\nmy shoe size is 7.5\nmy luck number is 0207\n"
          ]
        }
      ]
    },
    {
      "metadata": {},
      "cell_type": "markdown",
      "source": [
        "##### More string addition\n",
        "- **[ ]** Make a single string (sentence) in a variable called favorite_lucky_shoe using **string addition** with favorite_song, shoe_size, lucky_number variables and other strings as needed \n",
        "- **[ ]** Print the value of the favorite_lucky_shoe variable string\n",
        "> Sample output:  \n",
        "`For singing happy birthday 8.5 times, you will be fined $25`"
      ]
    },
    {
      "metadata": {
        "trusted": false
      },
      "cell_type": "code",
      "source": [
        "# assign favorite_lucky_shoe using\n",
        "favorite_lucky_shoe = favorite_song + shoe_size + lucky_number\n",
        "print(favorite_lucky_shoe)\n",
        "\n"
      ],
      "execution_count": 9,
      "outputs": [
        {
          "output_type": "stream",
          "name": "stdout",
          "text": [
            "hours and hours7.50207\n"
          ]
        }
      ]
    },
    {
      "metadata": {},
      "cell_type": "markdown",
      "source": [
        "### print() art"
      ]
    },
    {
      "metadata": {},
      "cell_type": "markdown",
      "source": [
        "#### Use `print()` and the asterisk **\\*** to create the following shapes:\n",
        "- [ ] Diagonal line  \n",
        "- [ ] Rectangle  \n",
        "- [ ] Smiley face"
      ]
    },
    {
      "metadata": {
        "trusted": false
      },
      "cell_type": "code",
      "source": [
        "# [ ] print a diagonal using \"*\"\n",
        "\n",
        "print(\"*\")\n",
        "print(\" *\")\n",
        "print(\"  *\")\n",
        "print(\"   *\")\n",
        "print(\"    *\")\n",
        "print(\"     *\")\n",
        "# [ ] rectangle using \"*\"\n",
        "print(\"******\")\n",
        "print(\"*    *\")\n",
        "print(\"*    *\")\n",
        "print(\"*    *\")\n",
        "print(\"******\")\n",
        "# [ ] smiley using \"*\"\n",
        "print(\"   *****   \")\n",
        "print(\"  *     *  \")\n",
        "print(\" * *   * * \")\n",
        "print(\" *       * \")\n",
        "print(\" * *   * * \")\n",
        "print(\" *  ***  * \")\n",
        "print(\"  *     *  \")\n",
        "print(\"   *****   \")\n"
      ],
      "execution_count": 24,
      "outputs": [
        {
          "output_type": "stream",
          "name": "stdout",
          "text": [
            "*\n *\n  *\n   *\n    *\n     *\n******\n*    *\n*    *\n*    *\n******\n   *****   \n  *     *  \n * *   * * \n *       * \n * *   * * \n *  ***  * \n  *     *  \n   *****   \n"
          ]
        }
      ]
    },
    {
      "metadata": {},
      "cell_type": "markdown",
      "source": [
        "### Using `type()`\n",
        "#### Calculate the *type* using `type()`"
      ]
    },
    {
      "metadata": {
        "trusted": false
      },
      "cell_type": "code",
      "source": [
        "# [ ] display the type of 'your name' (use single quotes)\n",
        "\n",
        "type('nathan')\n"
      ],
      "execution_count": 25,
      "outputs": [
        {
          "output_type": "execute_result",
          "data": {
            "text/plain": [
              "str"
            ]
          },
          "metadata": {},
          "execution_count": 25
        }
      ]
    },
    {
      "metadata": {
        "trusted": false
      },
      "cell_type": "code",
      "source": [
        "# [ ] display the type of \"save your notebook!\" (use double quotes)\n",
        "type(\"save your notebook\")\n",
        "\n"
      ],
      "execution_count": 26,
      "outputs": [
        {
          "output_type": "execute_result",
          "data": {
            "text/plain": [
              "str"
            ]
          },
          "metadata": {},
          "execution_count": 26
        }
      ]
    },
    {
      "metadata": {
        "trusted": false
      },
      "cell_type": "code",
      "source": [
        "# [ ] display the type of \"25\" (use quotes)\n",
        "type(\"25\")\n",
        "\n"
      ],
      "execution_count": 28,
      "outputs": [
        {
          "output_type": "execute_result",
          "data": {
            "text/plain": [
              "str"
            ]
          },
          "metadata": {},
          "execution_count": 28
        }
      ]
    },
    {
      "metadata": {
        "trusted": false
      },
      "cell_type": "code",
      "source": [
        "# [ ] display the type of \"save your notebook \" + 'your name'\n",
        "\n",
        "type(\"save your notebook\" + 'your name')\n"
      ],
      "execution_count": 29,
      "outputs": [
        {
          "output_type": "execute_result",
          "data": {
            "text/plain": [
              "str"
            ]
          },
          "metadata": {},
          "execution_count": 29
        }
      ]
    },
    {
      "metadata": {
        "trusted": false
      },
      "cell_type": "code",
      "source": [
        "# [ ] display the type of 25 (no quotes)\n",
        "type(25)\n",
        "\n"
      ],
      "execution_count": 30,
      "outputs": [
        {
          "output_type": "execute_result",
          "data": {
            "text/plain": [
              "int"
            ]
          },
          "metadata": {},
          "execution_count": 30
        }
      ]
    },
    {
      "metadata": {
        "trusted": false
      },
      "cell_type": "code",
      "source": [
        "# [ ] display the type of 25 + 10 \n",
        "\n",
        "type(25+10)\n"
      ],
      "execution_count": 31,
      "outputs": [
        {
          "output_type": "execute_result",
          "data": {
            "text/plain": [
              "int"
            ]
          },
          "metadata": {},
          "execution_count": 31
        }
      ]
    },
    {
      "metadata": {
        "trusted": false
      },
      "cell_type": "code",
      "source": [
        "# [ ] display the type of 1.55\n",
        "type(2.55)\n",
        "\n"
      ],
      "execution_count": 32,
      "outputs": [
        {
          "output_type": "execute_result",
          "data": {
            "text/plain": [
              "float"
            ]
          },
          "metadata": {},
          "execution_count": 32
        }
      ]
    },
    {
      "metadata": {
        "trusted": false
      },
      "cell_type": "code",
      "source": [
        "# [ ] display the type of 1.55 + 25\n",
        "\n",
        "type(1.55+25)\n"
      ],
      "execution_count": 33,
      "outputs": [
        {
          "output_type": "execute_result",
          "data": {
            "text/plain": [
              "float"
            ]
          },
          "metadata": {},
          "execution_count": 33
        }
      ]
    },
    {
      "metadata": {},
      "cell_type": "markdown",
      "source": [
        "#### Find the type of variables\n",
        "- **[ ]** Run the cell below to make the variables available to be used in other code\n",
        "- **[ ]** Display the data type as directed in the cells that follow"
      ]
    },
    {
      "metadata": {
        "collapsed": true,
        "trusted": false
      },
      "cell_type": "code",
      "source": [
        "# assignments ***RUN THIS CELL*** before starting the section\n",
        "#i assume this is supposed to define the variables bet t'was blank so i did it myself\n",
        "student_name = \"Nathan\"\n",
        "student_age = 20\n",
        "student_grade = \"DDM\"\n",
        "student_id = 431134"
      ],
      "execution_count": 18,
      "outputs": []
    },
    {
      "metadata": {
        "trusted": false
      },
      "cell_type": "code",
      "source": [
        "# [ ] display the current type of the variable student_name\n",
        "type(student_name)"
      ],
      "execution_count": 12,
      "outputs": [
        {
          "output_type": "execute_result",
          "data": {
            "text/plain": [
              "str"
            ]
          },
          "metadata": {},
          "execution_count": 12
        }
      ]
    },
    {
      "metadata": {
        "trusted": false
      },
      "cell_type": "code",
      "source": [
        "# [ ] display the type of student_age\n",
        "type(student_age)\n",
        "\n"
      ],
      "execution_count": 13,
      "outputs": [
        {
          "output_type": "execute_result",
          "data": {
            "text/plain": [
              "int"
            ]
          },
          "metadata": {},
          "execution_count": 13
        }
      ]
    },
    {
      "metadata": {
        "trusted": false
      },
      "cell_type": "code",
      "source": [
        "# [ ] display the type of student_grade\n",
        "type(student_grade)\n",
        "\n"
      ],
      "execution_count": 14,
      "outputs": [
        {
          "output_type": "execute_result",
          "data": {
            "text/plain": [
              "str"
            ]
          },
          "metadata": {},
          "execution_count": 14
        }
      ]
    },
    {
      "metadata": {
        "trusted": false
      },
      "cell_type": "code",
      "source": [
        "# [ ] display the type of student_age + student_grade\n",
        "type(student_age, student_grade)\n"
      ],
      "execution_count": 19,
      "outputs": [
        {
          "output_type": "error",
          "ename": "TypeError",
          "evalue": "type() takes 1 or 3 arguments",
          "traceback": [
            "\u001b[1;31m---------------------------------------------------------------------------\u001b[0m",
            "\u001b[1;31mTypeError\u001b[0m                                 Traceback (most recent call last)",
            "\u001b[1;32m<ipython-input-19-7503cda94fcd>\u001b[0m in \u001b[0;36m<module>\u001b[1;34m\u001b[0m\n\u001b[0;32m      1\u001b[0m \u001b[1;31m# [ ] display the type of student_age + student_grade\u001b[0m\u001b[1;33m\u001b[0m\u001b[1;33m\u001b[0m\u001b[1;33m\u001b[0m\u001b[0m\n\u001b[1;32m----> 2\u001b[1;33m \u001b[0mtype\u001b[0m\u001b[1;33m(\u001b[0m\u001b[0mstudent_age\u001b[0m\u001b[1;33m,\u001b[0m \u001b[0mstudent_grade\u001b[0m\u001b[1;33m)\u001b[0m\u001b[1;33m\u001b[0m\u001b[1;33m\u001b[0m\u001b[0m\n\u001b[0m",
            "\u001b[1;31mTypeError\u001b[0m: type() takes 1 or 3 arguments"
          ]
        }
      ]
    },
    {
      "metadata": {
        "trusted": false
      },
      "cell_type": "code",
      "source": [
        "# [ ] display the current type of student_id\n",
        "type(student_id)\n",
        "\n"
      ],
      "execution_count": 20,
      "outputs": [
        {
          "output_type": "execute_result",
          "data": {
            "text/plain": [
              "int"
            ]
          },
          "metadata": {},
          "execution_count": 20
        }
      ]
    },
    {
      "metadata": {
        "trusted": false
      },
      "cell_type": "code",
      "source": [
        "# assign new value to student_id \n",
        "student_id = 4.331\n",
        "\n",
        "# [ ] display the current of student_id\n",
        "type(student_id)\n",
        "\n"
      ],
      "execution_count": 21,
      "outputs": [
        {
          "output_type": "execute_result",
          "data": {
            "text/plain": [
              "float"
            ]
          },
          "metadata": {},
          "execution_count": 21
        }
      ]
    },
    {
      "metadata": {
        "collapsed": true
      },
      "cell_type": "markdown",
      "source": [
        "#### Number integer addition\n",
        "\n",
        "- **[ ]** Create variables (x, y, z) with integer values"
      ]
    },
    {
      "metadata": {
        "collapsed": true,
        "trusted": false
      },
      "cell_type": "code",
      "source": [
        "# [ ] create integer variables (x, y, z) and assign them 1-3 digit integers (no decimals - no quotes)\n",
        "x = 1\n",
        "y = 2\n",
        "z = 3\n"
      ],
      "execution_count": 22,
      "outputs": []
    },
    {
      "metadata": {},
      "cell_type": "markdown",
      "source": [
        "- **[ ]** Insert a **code cell** below\n",
        "- **[ ]** Create an integer variable named **xyz_sum** equal to the sum of x, y, and z\n",
        "- **[ ]** Print the value of **xyz_sum** "
      ]
    },
    {
      "metadata": {
        "trusted": false
      },
      "cell_type": "code",
      "source": [
        "xyz_sum = (x + y + z)\n",
        "print(xyz_sum)\n",
        "\n"
      ],
      "execution_count": 33,
      "outputs": [
        {
          "output_type": "stream",
          "name": "stdout",
          "text": [
            "6\n"
          ]
        }
      ]
    },
    {
      "metadata": {},
      "cell_type": "markdown",
      "source": [
        "### Errors\n",
        "- **[ ]** Troubleshoot and fix the errors below"
      ]
    },
    {
      "metadata": {
        "trusted": false
      },
      "cell_type": "code",
      "source": [
        "# [ ] fix the error \n",
        "\n",
        "print(\"Hello World!\")    \n",
        "\n",
        "\n"
      ],
      "execution_count": null,
      "outputs": []
    },
    {
      "metadata": {
        "trusted": false
      },
      "cell_type": "code",
      "source": [
        "# [ ] fix the error \n",
        "print(\"strings have quotes and variables have names\")\n",
        "\n"
      ],
      "execution_count": 36,
      "outputs": [
        {
          "output_type": "stream",
          "name": "stdout",
          "text": [
            "strings have quotes and variables have names\n"
          ]
        }
      ]
    },
    {
      "metadata": {
        "collapsed": true,
        "trusted": false
      },
      "cell_type": "code",
      "source": [
        "# [ ] fix the error \n",
        "print( \"I have $\" + \"5\")\n",
        "\n"
      ],
      "execution_count": 35,
      "outputs": [
        {
          "output_type": "stream",
          "name": "stdout",
          "text": [
            "I have $5\n"
          ]
        }
      ]
    },
    {
      "metadata": {
        "trusted": false
      },
      "cell_type": "code",
      "source": [
        "# [ ] fix the error \n",
        "print('always save the notebook')\n",
        "      \n"
      ],
      "execution_count": 37,
      "outputs": [
        {
          "output_type": "stream",
          "name": "stdout",
          "text": [
            "always save the notebook\n"
          ]
        }
      ]
    },
    {
      "metadata": {
        "collapsed": true
      },
      "cell_type": "markdown",
      "source": [
        "## ASCII art\n",
        "- **[ ]** Display first name or initials as ASCII Art\n",
        "- **[ ]** Challenge: insert an additional code cell to make an ASCII picture"
      ]
    },
    {
      "metadata": {
        "trusted": false
      },
      "cell_type": "code",
      "source": [
        "# [ ] ASCII ART\n",
        "\n",
        "\n"
      ],
      "execution_count": null,
      "outputs": []
    },
    {
      "metadata": {
        "trusted": false
      },
      "cell_type": "code",
      "source": [
        "# [ ] ASCII ART\n",
        "\n"
      ],
      "execution_count": null,
      "outputs": []
    },
    {
      "metadata": {},
      "cell_type": "markdown",
      "source": [
        "[Terms of use](http://go.microsoft.com/fwlink/?LinkID=206977) &nbsp; [Privacy & cookies](https://go.microsoft.com/fwlink/?LinkId=521839) &nbsp; © 2017 Microsoft"
      ]
    }
  ],
  "metadata": {
    "anaconda-cloud": {},
    "kernelspec": {
      "name": "python3",
      "display_name": "Python 3.7.8 64-bit",
      "metadata": {
        "interpreter": {
          "hash": "57baa5815c940fdaff4d14510622de9616cae602444507ba5d0b6727c008cbd6"
        }
      }
    },
    "language_info": {
      "mimetype": "text/x-python",
      "nbconvert_exporter": "python",
      "name": "python",
      "file_extension": ".py",
      "version": "3.7.8-final",
      "pygments_lexer": "ipython3",
      "codemirror_mode": {
        "version": 3,
        "name": "ipython"
      }
    }
  },
  "nbformat": 4,
  "nbformat_minor": 1
}